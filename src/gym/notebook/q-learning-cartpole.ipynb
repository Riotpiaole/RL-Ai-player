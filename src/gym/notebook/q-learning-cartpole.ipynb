{
 "cells": [
  {
   "cell_type": "code",
   "execution_count": 2,
   "metadata": {},
   "outputs": [
    {
     "name": "stderr",
     "output_type": "stream",
     "text": [
      "/usr/local/lib/python3.5/dist-packages/gym/envs/registration.py:14: PkgResourcesDeprecationWarning: Parameters to load are deprecated.  Call .resolve and .require separately.\n",
      "  result = entry_point.load(False)\n"
     ]
    }
   ],
   "source": [
    "import time \n",
    "from utils.visualizes import display_frames_as_gif\n",
    "%matplotlib inline\n",
    "import gym \n",
    "\n",
    "env = gym.make('CartPole-v0')"
   ]
  },
  {
   "cell_type": "code",
   "execution_count": null,
   "metadata": {},
   "outputs": [],
   "source": [
    "class Agent():\n",
    "    def __init__(self,env,eposide_size=3000):\n",
    "            self.env = env\n",
    "            self.eposide_size = 3000\n",
    "            self.shape = env.observation_space.shape\n",
    "            self.action_shape = env.action_space.n\n",
    "            self.experience_replay = {}\n",
    "\n",
    "            self.replay_frames = []\n",
    "            # generated weights in range -1 and 1\n",
    "            self.weights = np.random.rand(self.shape[0]) * 2 - 1\n",
    "\n",
    "    def q_learn(self):\n",
    "        for eposide in range(self.eposide_size):\n",
    "            seq = "
   ]
  },
  {
   "cell_type": "code",
   "execution_count": 6,
   "metadata": {},
   "outputs": [
    {
     "name": "stdout",
     "output_type": "stream",
     "text": [
      "[ 0.00270937  0.00623066  0.00582903 -0.02206402] <class 'numpy.ndarray'>\n"
     ]
    }
   ],
   "source": [
    "observation =env.reset()\n",
    "print(str(observation),type(observation))"
   ]
  },
  {
   "cell_type": "code",
   "execution_count": null,
   "metadata": {},
   "outputs": [],
   "source": []
  }
 ],
 "metadata": {
  "kernelspec": {
   "display_name": "Python 3",
   "language": "python",
   "name": "python3"
  },
  "language_info": {
   "codemirror_mode": {
    "name": "ipython",
    "version": 3
   },
   "file_extension": ".py",
   "mimetype": "text/x-python",
   "name": "python",
   "nbconvert_exporter": "python",
   "pygments_lexer": "ipython3",
   "version": "3.5.2"
  }
 },
 "nbformat": 4,
 "nbformat_minor": 2
}
